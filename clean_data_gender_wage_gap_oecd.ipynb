{
 "cells": [
  {
   "cell_type": "code",
   "execution_count": 1,
   "metadata": {},
   "outputs": [
    {
     "data": {
      "text/html": [
       "<div>\n",
       "<style scoped>\n",
       "    .dataframe tbody tr th:only-of-type {\n",
       "        vertical-align: middle;\n",
       "    }\n",
       "\n",
       "    .dataframe tbody tr th {\n",
       "        vertical-align: top;\n",
       "    }\n",
       "\n",
       "    .dataframe thead th {\n",
       "        text-align: right;\n",
       "    }\n",
       "</style>\n",
       "<table border=\"1\" class=\"dataframe\">\n",
       "  <thead>\n",
       "    <tr style=\"text-align: right;\">\n",
       "      <th></th>\n",
       "      <th>Location</th>\n",
       "      <th>Code</th>\n",
       "      <th>Year</th>\n",
       "      <th>Gap</th>\n",
       "    </tr>\n",
       "  </thead>\n",
       "  <tbody>\n",
       "    <tr>\n",
       "      <th>0</th>\n",
       "      <td>Australia</td>\n",
       "      <td>AUS</td>\n",
       "      <td>1975</td>\n",
       "      <td>21.6</td>\n",
       "    </tr>\n",
       "    <tr>\n",
       "      <th>1</th>\n",
       "      <td>Australia</td>\n",
       "      <td>AUS</td>\n",
       "      <td>1976</td>\n",
       "      <td>20.8</td>\n",
       "    </tr>\n",
       "    <tr>\n",
       "      <th>2</th>\n",
       "      <td>Australia</td>\n",
       "      <td>AUS</td>\n",
       "      <td>1977</td>\n",
       "      <td>18.4</td>\n",
       "    </tr>\n",
       "    <tr>\n",
       "      <th>3</th>\n",
       "      <td>Australia</td>\n",
       "      <td>AUS</td>\n",
       "      <td>1978</td>\n",
       "      <td>19.8</td>\n",
       "    </tr>\n",
       "    <tr>\n",
       "      <th>4</th>\n",
       "      <td>Australia</td>\n",
       "      <td>AUS</td>\n",
       "      <td>1979</td>\n",
       "      <td>20.0</td>\n",
       "    </tr>\n",
       "  </tbody>\n",
       "</table>\n",
       "</div>"
      ],
      "text/plain": [
       "    Location Code  Year   Gap\n",
       "0  Australia  AUS  1975  21.6\n",
       "1  Australia  AUS  1976  20.8\n",
       "2  Australia  AUS  1977  18.4\n",
       "3  Australia  AUS  1978  19.8\n",
       "4  Australia  AUS  1979  20.0"
      ]
     },
     "execution_count": 1,
     "metadata": {},
     "output_type": "execute_result"
    }
   ],
   "source": [
    "import pandas as pd\n",
    "\n",
    "# load data\n",
    "wage_gap = pd.read_csv('data/gender-wage-gap-oecd.csv')\n",
    "\n",
    "# Rename column headers\n",
    "wage_gap.rename(columns={'Gender wage gap (OECD 2017)': 'Gap', 'Entity': 'Location'}, inplace=True)\n",
    "\n",
    "# Display first five rows \n",
    "wage_gap.head()\n",
    "\n"
   ]
  },
  {
   "cell_type": "code",
   "execution_count": 2,
   "metadata": {},
   "outputs": [
    {
     "name": "stdout",
     "output_type": "stream",
     "text": [
      "Number of rows: 636\n",
      "Number of unique rows: 636\n"
     ]
    }
   ],
   "source": [
    "# Remove duplicate rows\n",
    "u_wage_gap = wage_gap.drop_duplicates()\n",
    "\n",
    "#count of rows in original data frame\n",
    "row_count = len(wage_gap)\n",
    "\n",
    "# count of rows in data frame with duplicates dropped\n",
    "u_row_count = len(u_wage_gap)\n",
    "\n",
    "# comparing the two row counts to see if there were any duplicates removed.\n",
    "print(f\"Number of rows: {row_count}\"  f\"\\nNumber of unique rows: {u_row_count}\")"
   ]
  },
  {
   "cell_type": "code",
   "execution_count": 3,
   "metadata": {},
   "outputs": [
    {
     "name": "stdout",
     "output_type": "stream",
     "text": [
      "Old Data Types: \n",
      "Location     object\n",
      "Code         object\n",
      "Year          int64\n",
      "Gap         float64\n",
      "dtype: object\n",
      "\n",
      "New Data Types: \n",
      "Location    string[python]\n",
      "Code        string[python]\n",
      "Year                 Int64\n",
      "Gap                Float64\n",
      "dtype: object\n"
     ]
    }
   ],
   "source": [
    "#change data types\n",
    "ud_wage_gap = u_wage_gap.convert_dtypes()\n",
    "\n",
    "\n",
    "#compare data types\n",
    "print(f\"Old Data Types: \\n{u_wage_gap.dtypes}\\n\")\n",
    "print(f\"New Data Types: \\n{ud_wage_gap.dtypes}\")"
   ]
  },
  {
   "cell_type": "code",
   "execution_count": 4,
   "metadata": {},
   "outputs": [
    {
     "name": "stdout",
     "output_type": "stream",
     "text": [
      "Location    0\n",
      "Code        0\n",
      "Year        0\n",
      "Gap         0\n",
      "dtype: int64\n"
     ]
    }
   ],
   "source": [
    "#identify null values\n",
    "null_rows = ud_wage_gap[ud_wage_gap.isna().any(axis=1)]\n",
    "\n",
    "#show count of null values per column\n",
    "print(ud_wage_gap.isnull().sum()) \n",
    "\n",
    "#export null values to csv for review\n",
    "null_rows.to_csv(\"data/nullrows.csv\")\n",
    "\n",
    "\n"
   ]
  },
  {
   "cell_type": "code",
   "execution_count": 5,
   "metadata": {},
   "outputs": [
    {
     "name": "stdout",
     "output_type": "stream",
     "text": [
      "File has been saved successfully.\n"
     ]
    }
   ],
   "source": [
    "#save to csv\n",
    "ud_wage_gap.to_csv(\"data_exports/participation_clean.csv\")\n",
    "\n",
    "print(f\"File has been saved successfully.\")"
   ]
  },
  {
   "cell_type": "code",
   "execution_count": 6,
   "metadata": {},
   "outputs": [
    {
     "name": "stdout",
     "output_type": "stream",
     "text": [
      "[('continents',), ('participation',), ('wagegap',)]\n"
     ]
    }
   ],
   "source": [
    "import sqlite3\n",
    "import csv\n",
    "\n",
    "#setup database\n",
    "with sqlite3.connect(\"women_in_the_workforce.db\", timeout=30) as con:\n",
    "    #creates the table\n",
    "    ud_wage_gap.to_sql('wagegap', con, if_exists='replace', index=False)\n",
    "\n",
    "cur = con.cursor()\n",
    "\n",
    "\n",
    "cur.execute(\"SELECT name FROM sqlite_master WHERE type='table';\")\n",
    "print(cur.fetchall()) "
   ]
  }
 ],
 "metadata": {
  "kernelspec": {
   "display_name": "venv",
   "language": "python",
   "name": "python3"
  },
  "language_info": {
   "codemirror_mode": {
    "name": "ipython",
    "version": 3
   },
   "file_extension": ".py",
   "mimetype": "text/x-python",
   "name": "python",
   "nbconvert_exporter": "python",
   "pygments_lexer": "ipython3",
   "version": "3.12.4"
  }
 },
 "nbformat": 4,
 "nbformat_minor": 2
}
