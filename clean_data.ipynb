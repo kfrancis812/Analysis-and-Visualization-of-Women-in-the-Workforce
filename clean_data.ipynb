{
 "cells": [
  {
   "cell_type": "code",
   "execution_count": 2,
   "metadata": {},
   "outputs": [
    {
     "data": {
      "text/html": [
       "<div>\n",
       "<style scoped>\n",
       "    .dataframe tbody tr th:only-of-type {\n",
       "        vertical-align: middle;\n",
       "    }\n",
       "\n",
       "    .dataframe tbody tr th {\n",
       "        vertical-align: top;\n",
       "    }\n",
       "\n",
       "    .dataframe thead th {\n",
       "        text-align: right;\n",
       "    }\n",
       "</style>\n",
       "<table border=\"1\" class=\"dataframe\">\n",
       "  <thead>\n",
       "    <tr style=\"text-align: right;\">\n",
       "      <th></th>\n",
       "      <th>Location</th>\n",
       "      <th>Code</th>\n",
       "      <th>Year</th>\n",
       "      <th>Rate</th>\n",
       "    </tr>\n",
       "  </thead>\n",
       "  <tbody>\n",
       "    <tr>\n",
       "      <th>0</th>\n",
       "      <td>Afghanistan</td>\n",
       "      <td>AFG</td>\n",
       "      <td>1991</td>\n",
       "      <td>15.635</td>\n",
       "    </tr>\n",
       "    <tr>\n",
       "      <th>1</th>\n",
       "      <td>Afghanistan</td>\n",
       "      <td>AFG</td>\n",
       "      <td>1992</td>\n",
       "      <td>15.698</td>\n",
       "    </tr>\n",
       "    <tr>\n",
       "      <th>2</th>\n",
       "      <td>Afghanistan</td>\n",
       "      <td>AFG</td>\n",
       "      <td>1993</td>\n",
       "      <td>15.715</td>\n",
       "    </tr>\n",
       "    <tr>\n",
       "      <th>3</th>\n",
       "      <td>Afghanistan</td>\n",
       "      <td>AFG</td>\n",
       "      <td>1994</td>\n",
       "      <td>15.726</td>\n",
       "    </tr>\n",
       "    <tr>\n",
       "      <th>4</th>\n",
       "      <td>Afghanistan</td>\n",
       "      <td>AFG</td>\n",
       "      <td>1995</td>\n",
       "      <td>15.796</td>\n",
       "    </tr>\n",
       "  </tbody>\n",
       "</table>\n",
       "</div>"
      ],
      "text/plain": [
       "      Location Code  Year    Rate\n",
       "0  Afghanistan  AFG  1991  15.635\n",
       "1  Afghanistan  AFG  1992  15.698\n",
       "2  Afghanistan  AFG  1993  15.715\n",
       "3  Afghanistan  AFG  1994  15.726\n",
       "4  Afghanistan  AFG  1995  15.796"
      ]
     },
     "execution_count": 2,
     "metadata": {},
     "output_type": "execute_result"
    }
   ],
   "source": [
    "import pandas as pd\n",
    "\n",
    "# load data\n",
    "female_lfp = pd.read_csv('data/female-labor-force-participation-rates.csv')\n",
    "\n",
    "# Rename column headers\n",
    "female_lfp.rename(columns={'Labor force participation rate, female (% of female population ages 15+) (modeled ILO estimate)': 'Rate', 'Entity': 'Location'}, inplace=True)\n",
    "\n",
    "# Display first five rows \n",
    "female_lfp.head()\n",
    "\n"
   ]
  },
  {
   "cell_type": "code",
   "execution_count": 3,
   "metadata": {},
   "outputs": [
    {
     "name": "stdout",
     "output_type": "stream",
     "text": [
      "Number of rows: 6431\n",
      "Number of unique rows: 6431\n"
     ]
    }
   ],
   "source": [
    "# Remove duplicate rows\n",
    "u_female_lfp = female_lfp.drop_duplicates()\n",
    "\n",
    "#count of rows in original data frame\n",
    "row_count = len(female_lfp)\n",
    "\n",
    "# count of rows in data frame with duplicates dropped\n",
    "u_row_count = len(u_female_lfp)\n",
    "\n",
    "# comparing the two row counts to see if there were any duplicates removed.\n",
    "print(f\"Number of rows: {row_count}\"  f\"\\nNumber of unique rows: {u_row_count}\")"
   ]
  },
  {
   "cell_type": "code",
   "execution_count": 4,
   "metadata": {},
   "outputs": [
    {
     "name": "stdout",
     "output_type": "stream",
     "text": [
      "Old Data Types: \n",
      "Location     object\n",
      "Code         object\n",
      "Year          int64\n",
      "Rate        float64\n",
      "dtype: object\n",
      "\n",
      "New Data Types: \n",
      "Location    string[python]\n",
      "Code        string[python]\n",
      "Year                 Int64\n",
      "Rate               Float64\n",
      "dtype: object\n"
     ]
    }
   ],
   "source": [
    "#change data types\n",
    "ud_female_lfp = u_female_lfp.convert_dtypes()\n",
    "\n",
    "\n",
    "#compare data types\n",
    "print(f\"Old Data Types: \\n{u_female_lfp.dtypes}\\n\")\n",
    "print(f\"New Data Types: \\n{ud_female_lfp.dtypes}\")"
   ]
  },
  {
   "cell_type": "code",
   "execution_count": 5,
   "metadata": {},
   "outputs": [
    {
     "name": "stdout",
     "output_type": "stream",
     "text": [
      "Location      0\n",
      "Code        416\n",
      "Year          0\n",
      "Rate          0\n",
      "dtype: int64\n"
     ]
    }
   ],
   "source": [
    "#identify null values\n",
    "null_rows = ud_female_lfp[ud_female_lfp.isna().any(axis=1)]\n",
    "\n",
    "#show count of null values per column\n",
    "print(ud_female_lfp.isnull().sum()) \n",
    "\n",
    "#export null values to csv for review\n",
    "null_rows.to_csv(\"data/nullrows.csv\")\n",
    "\n",
    "\n"
   ]
  },
  {
   "cell_type": "code",
   "execution_count": 6,
   "metadata": {},
   "outputs": [
    {
     "data": {
      "text/html": [
       "<div>\n",
       "<style scoped>\n",
       "    .dataframe tbody tr th:only-of-type {\n",
       "        vertical-align: middle;\n",
       "    }\n",
       "\n",
       "    .dataframe tbody tr th {\n",
       "        vertical-align: top;\n",
       "    }\n",
       "\n",
       "    .dataframe thead th {\n",
       "        text-align: right;\n",
       "    }\n",
       "</style>\n",
       "<table border=\"1\" class=\"dataframe\">\n",
       "  <thead>\n",
       "    <tr style=\"text-align: right;\">\n",
       "      <th></th>\n",
       "      <th>Location</th>\n",
       "      <th>Code</th>\n",
       "      <th>Year</th>\n",
       "      <th>Rate</th>\n",
       "    </tr>\n",
       "  </thead>\n",
       "  <tbody>\n",
       "    <tr>\n",
       "      <th>1536</th>\n",
       "      <td>East Asia and Pacific (WB)</td>\n",
       "      <td>&lt;NA&gt;</td>\n",
       "      <td>1991</td>\n",
       "      <td>66.366035</td>\n",
       "    </tr>\n",
       "    <tr>\n",
       "      <th>1537</th>\n",
       "      <td>East Asia and Pacific (WB)</td>\n",
       "      <td>&lt;NA&gt;</td>\n",
       "      <td>1992</td>\n",
       "      <td>66.24243</td>\n",
       "    </tr>\n",
       "    <tr>\n",
       "      <th>1538</th>\n",
       "      <td>East Asia and Pacific (WB)</td>\n",
       "      <td>&lt;NA&gt;</td>\n",
       "      <td>1993</td>\n",
       "      <td>65.92144</td>\n",
       "    </tr>\n",
       "    <tr>\n",
       "      <th>1539</th>\n",
       "      <td>East Asia and Pacific (WB)</td>\n",
       "      <td>&lt;NA&gt;</td>\n",
       "      <td>1994</td>\n",
       "      <td>65.88117</td>\n",
       "    </tr>\n",
       "    <tr>\n",
       "      <th>1540</th>\n",
       "      <td>East Asia and Pacific (WB)</td>\n",
       "      <td>&lt;NA&gt;</td>\n",
       "      <td>1995</td>\n",
       "      <td>65.73217</td>\n",
       "    </tr>\n",
       "  </tbody>\n",
       "</table>\n",
       "</div>"
      ],
      "text/plain": [
       "                        Location  Code  Year       Rate\n",
       "1536  East Asia and Pacific (WB)  <NA>  1991  66.366035\n",
       "1537  East Asia and Pacific (WB)  <NA>  1992   66.24243\n",
       "1538  East Asia and Pacific (WB)  <NA>  1993   65.92144\n",
       "1539  East Asia and Pacific (WB)  <NA>  1994   65.88117\n",
       "1540  East Asia and Pacific (WB)  <NA>  1995   65.73217"
      ]
     },
     "execution_count": 6,
     "metadata": {},
     "output_type": "execute_result"
    }
   ],
   "source": [
    "#filter by null values in the Code column\n",
    "null_rows = ud_female_lfp[pd.isnull(ud_female_lfp[\"Code\"])]\n",
    "\n",
    "# Display first five rows \n",
    "null_rows.head()"
   ]
  },
  {
   "cell_type": "code",
   "execution_count": 7,
   "metadata": {},
   "outputs": [
    {
     "data": {
      "text/html": [
       "<div>\n",
       "<style scoped>\n",
       "    .dataframe tbody tr th:only-of-type {\n",
       "        vertical-align: middle;\n",
       "    }\n",
       "\n",
       "    .dataframe tbody tr th {\n",
       "        vertical-align: top;\n",
       "    }\n",
       "\n",
       "    .dataframe thead th {\n",
       "        text-align: right;\n",
       "    }\n",
       "</style>\n",
       "<table border=\"1\" class=\"dataframe\">\n",
       "  <thead>\n",
       "    <tr style=\"text-align: right;\">\n",
       "      <th></th>\n",
       "      <th>Location</th>\n",
       "      <th>Code</th>\n",
       "      <th>Year</th>\n",
       "      <th>Rate</th>\n",
       "    </tr>\n",
       "  </thead>\n",
       "  <tbody>\n",
       "  </tbody>\n",
       "</table>\n",
       "</div>"
      ],
      "text/plain": [
       "Empty DataFrame\n",
       "Columns: [Location, Code, Year, Rate]\n",
       "Index: []"
      ]
     },
     "execution_count": 7,
     "metadata": {},
     "output_type": "execute_result"
    }
   ],
   "source": [
    "#replace  na values with location value\n",
    "ud_female_lfp['Code'] = ud_female_lfp['Code'].fillna(ud_female_lfp['Location'])\n",
    "\n",
    "#check for null values again\n",
    "null_rows = ud_female_lfp[pd.isnull(ud_female_lfp[\"Code\"])]\n",
    "\n",
    "# Display first five rows \n",
    "null_rows.head()\n",
    "\n",
    "#yay no null values!"
   ]
  },
  {
   "cell_type": "code",
   "execution_count": 8,
   "metadata": {},
   "outputs": [],
   "source": [
    "#save to csv\n",
    "ud_female_lfp.to_csv(\"data/participation_clean.csv\")"
   ]
  },
  {
   "cell_type": "code",
   "execution_count": 9,
   "metadata": {},
   "outputs": [
    {
     "data": {
      "text/html": [
       "<div>\n",
       "<style scoped>\n",
       "    .dataframe tbody tr th:only-of-type {\n",
       "        vertical-align: middle;\n",
       "    }\n",
       "\n",
       "    .dataframe tbody tr th {\n",
       "        vertical-align: top;\n",
       "    }\n",
       "\n",
       "    .dataframe thead th {\n",
       "        text-align: right;\n",
       "    }\n",
       "</style>\n",
       "<table border=\"1\" class=\"dataframe\">\n",
       "  <thead>\n",
       "    <tr style=\"text-align: right;\">\n",
       "      <th></th>\n",
       "      <th>Location</th>\n",
       "      <th>Code</th>\n",
       "      <th>Year</th>\n",
       "      <th>Continent</th>\n",
       "    </tr>\n",
       "  </thead>\n",
       "  <tbody>\n",
       "    <tr>\n",
       "      <th>0</th>\n",
       "      <td>Afghanistan</td>\n",
       "      <td>AFG</td>\n",
       "      <td>2023</td>\n",
       "      <td>Asia</td>\n",
       "    </tr>\n",
       "    <tr>\n",
       "      <th>1</th>\n",
       "      <td>Aland Islands</td>\n",
       "      <td>ALA</td>\n",
       "      <td>2023</td>\n",
       "      <td>Europe</td>\n",
       "    </tr>\n",
       "    <tr>\n",
       "      <th>2</th>\n",
       "      <td>Albania</td>\n",
       "      <td>ALB</td>\n",
       "      <td>2023</td>\n",
       "      <td>Europe</td>\n",
       "    </tr>\n",
       "    <tr>\n",
       "      <th>3</th>\n",
       "      <td>Algeria</td>\n",
       "      <td>DZA</td>\n",
       "      <td>2023</td>\n",
       "      <td>Africa</td>\n",
       "    </tr>\n",
       "    <tr>\n",
       "      <th>4</th>\n",
       "      <td>American Samoa</td>\n",
       "      <td>ASM</td>\n",
       "      <td>2023</td>\n",
       "      <td>Oceania</td>\n",
       "    </tr>\n",
       "  </tbody>\n",
       "</table>\n",
       "</div>"
      ],
      "text/plain": [
       "         Location Code  Year Continent\n",
       "0     Afghanistan  AFG  2023      Asia\n",
       "1   Aland Islands  ALA  2023    Europe\n",
       "2         Albania  ALB  2023    Europe\n",
       "3         Algeria  DZA  2023    Africa\n",
       "4  American Samoa  ASM  2023   Oceania"
      ]
     },
     "execution_count": 9,
     "metadata": {},
     "output_type": "execute_result"
    }
   ],
   "source": [
    "# let's load another piece of data\n",
    "continents = pd.read_csv('data/continents-according-to-our-world-in-data.csv')\n",
    "\n",
    "# Rename column headers\n",
    "continents.rename(columns={'World regions according to OWID': 'Continent', 'Entity': 'Location'}, inplace=True)\n",
    "\n",
    "# Display first five rows \n",
    "continents.head()"
   ]
  },
  {
   "cell_type": "code",
   "execution_count": 10,
   "metadata": {},
   "outputs": [
    {
     "name": "stdout",
     "output_type": "stream",
     "text": [
      "Number of rows: 271\n",
      "Number of unique rows: 271\n"
     ]
    }
   ],
   "source": [
    "# Remove duplicate rows\n",
    "u_continents = continents.drop_duplicates()\n",
    "\n",
    "#count of rows in original data frame\n",
    "row_count = len(continents)\n",
    "\n",
    "# count of rows in data frame with duplicates dropped\n",
    "u_row_count = len(u_continents)\n",
    "\n",
    "# comparing the two row counts to see if there were any duplicates removed.\n",
    "print(f\"Number of rows: {row_count}\"  f\"\\nNumber of unique rows: {u_row_count}\")"
   ]
  },
  {
   "cell_type": "code",
   "execution_count": 11,
   "metadata": {},
   "outputs": [
    {
     "name": "stdout",
     "output_type": "stream",
     "text": [
      "Old Data Types: \n",
      "Location     object\n",
      "Code         object\n",
      "Year          int64\n",
      "Continent    object\n",
      "dtype: object\n",
      "\n",
      "New Data Types: \n",
      "Location     string[python]\n",
      "Code         string[python]\n",
      "Year                  Int64\n",
      "Continent    string[python]\n",
      "dtype: object\n"
     ]
    }
   ],
   "source": [
    "#change data types\n",
    "ud_continents = u_continents.convert_dtypes()\n",
    "\n",
    "\n",
    "#compare data types\n",
    "print(f\"Old Data Types: \\n{u_continents.dtypes}\\n\")\n",
    "print(f\"New Data Types: \\n{ud_continents.dtypes}\")"
   ]
  },
  {
   "cell_type": "code",
   "execution_count": 12,
   "metadata": {},
   "outputs": [
    {
     "name": "stdout",
     "output_type": "stream",
     "text": [
      "Location      0\n",
      "Code         14\n",
      "Year          0\n",
      "Continent     0\n",
      "dtype: int64\n"
     ]
    }
   ],
   "source": [
    "#identify null values\n",
    "null_rows_continents = ud_continents[ud_continents.isna().any(axis=1)]\n",
    "\n",
    "#show count of null values per column\n",
    "print(ud_continents.isnull().sum()) \n",
    "\n",
    "#export null values to csv for review\n",
    "null_rows_continents.to_csv(\"data/nullrowscontinents.csv\")\n",
    "\n",
    "\n"
   ]
  },
  {
   "cell_type": "code",
   "execution_count": 13,
   "metadata": {},
   "outputs": [
    {
     "data": {
      "text/html": [
       "<div>\n",
       "<style scoped>\n",
       "    .dataframe tbody tr th:only-of-type {\n",
       "        vertical-align: middle;\n",
       "    }\n",
       "\n",
       "    .dataframe tbody tr th {\n",
       "        vertical-align: top;\n",
       "    }\n",
       "\n",
       "    .dataframe thead th {\n",
       "        text-align: right;\n",
       "    }\n",
       "</style>\n",
       "<table border=\"1\" class=\"dataframe\">\n",
       "  <thead>\n",
       "    <tr style=\"text-align: right;\">\n",
       "      <th></th>\n",
       "      <th>Location</th>\n",
       "      <th>Code</th>\n",
       "      <th>Year</th>\n",
       "      <th>Continent</th>\n",
       "    </tr>\n",
       "  </thead>\n",
       "  <tbody>\n",
       "    <tr>\n",
       "      <th>61</th>\n",
       "      <td>Democratic Republic of Vietnam</td>\n",
       "      <td>&lt;NA&gt;</td>\n",
       "      <td>2023</td>\n",
       "      <td>Asia</td>\n",
       "    </tr>\n",
       "    <tr>\n",
       "      <th>66</th>\n",
       "      <td>Duchy of Modena and Reggio</td>\n",
       "      <td>&lt;NA&gt;</td>\n",
       "      <td>2023</td>\n",
       "      <td>Europe</td>\n",
       "    </tr>\n",
       "    <tr>\n",
       "      <th>67</th>\n",
       "      <td>Duchy of Parma and Piacenza</td>\n",
       "      <td>&lt;NA&gt;</td>\n",
       "      <td>2023</td>\n",
       "      <td>Europe</td>\n",
       "    </tr>\n",
       "    <tr>\n",
       "      <th>81</th>\n",
       "      <td>Federal Republic of Central America</td>\n",
       "      <td>&lt;NA&gt;</td>\n",
       "      <td>2023</td>\n",
       "      <td>North America</td>\n",
       "    </tr>\n",
       "    <tr>\n",
       "      <th>93</th>\n",
       "      <td>Grand Duchy of Baden</td>\n",
       "      <td>&lt;NA&gt;</td>\n",
       "      <td>2023</td>\n",
       "      <td>Europe</td>\n",
       "    </tr>\n",
       "  </tbody>\n",
       "</table>\n",
       "</div>"
      ],
      "text/plain": [
       "                               Location  Code  Year      Continent\n",
       "61       Democratic Republic of Vietnam  <NA>  2023           Asia\n",
       "66           Duchy of Modena and Reggio  <NA>  2023         Europe\n",
       "67          Duchy of Parma and Piacenza  <NA>  2023         Europe\n",
       "81  Federal Republic of Central America  <NA>  2023  North America\n",
       "93                 Grand Duchy of Baden  <NA>  2023         Europe"
      ]
     },
     "execution_count": 13,
     "metadata": {},
     "output_type": "execute_result"
    }
   ],
   "source": [
    "#filter by null values in the Code column\n",
    "null_rows = ud_continents[pd.isnull(ud_continents[\"Code\"])]\n",
    "\n",
    "# Display first five rows \n",
    "null_rows.head()"
   ]
  },
  {
   "cell_type": "code",
   "execution_count": 14,
   "metadata": {},
   "outputs": [
    {
     "data": {
      "text/html": [
       "<div>\n",
       "<style scoped>\n",
       "    .dataframe tbody tr th:only-of-type {\n",
       "        vertical-align: middle;\n",
       "    }\n",
       "\n",
       "    .dataframe tbody tr th {\n",
       "        vertical-align: top;\n",
       "    }\n",
       "\n",
       "    .dataframe thead th {\n",
       "        text-align: right;\n",
       "    }\n",
       "</style>\n",
       "<table border=\"1\" class=\"dataframe\">\n",
       "  <thead>\n",
       "    <tr style=\"text-align: right;\">\n",
       "      <th></th>\n",
       "      <th>Location</th>\n",
       "      <th>Code</th>\n",
       "      <th>Year</th>\n",
       "      <th>Continent</th>\n",
       "    </tr>\n",
       "  </thead>\n",
       "  <tbody>\n",
       "    <tr>\n",
       "      <th>0</th>\n",
       "      <td>Afghanistan</td>\n",
       "      <td>AFG</td>\n",
       "      <td>2023</td>\n",
       "      <td>Asia</td>\n",
       "    </tr>\n",
       "    <tr>\n",
       "      <th>1</th>\n",
       "      <td>Aland Islands</td>\n",
       "      <td>ALA</td>\n",
       "      <td>2023</td>\n",
       "      <td>Europe</td>\n",
       "    </tr>\n",
       "    <tr>\n",
       "      <th>2</th>\n",
       "      <td>Albania</td>\n",
       "      <td>ALB</td>\n",
       "      <td>2023</td>\n",
       "      <td>Europe</td>\n",
       "    </tr>\n",
       "    <tr>\n",
       "      <th>3</th>\n",
       "      <td>Algeria</td>\n",
       "      <td>DZA</td>\n",
       "      <td>2023</td>\n",
       "      <td>Africa</td>\n",
       "    </tr>\n",
       "    <tr>\n",
       "      <th>4</th>\n",
       "      <td>American Samoa</td>\n",
       "      <td>ASM</td>\n",
       "      <td>2023</td>\n",
       "      <td>Oceania</td>\n",
       "    </tr>\n",
       "    <tr>\n",
       "      <th>...</th>\n",
       "      <td>...</td>\n",
       "      <td>...</td>\n",
       "      <td>...</td>\n",
       "      <td>...</td>\n",
       "    </tr>\n",
       "    <tr>\n",
       "      <th>266</th>\n",
       "      <td>Yemen Arab Republic</td>\n",
       "      <td>OWID_YAR</td>\n",
       "      <td>2023</td>\n",
       "      <td>Asia</td>\n",
       "    </tr>\n",
       "    <tr>\n",
       "      <th>267</th>\n",
       "      <td>Yemen People's Republic</td>\n",
       "      <td>OWID_YPR</td>\n",
       "      <td>2023</td>\n",
       "      <td>Asia</td>\n",
       "    </tr>\n",
       "    <tr>\n",
       "      <th>268</th>\n",
       "      <td>Yugoslavia</td>\n",
       "      <td>OWID_YGS</td>\n",
       "      <td>2023</td>\n",
       "      <td>Europe</td>\n",
       "    </tr>\n",
       "    <tr>\n",
       "      <th>269</th>\n",
       "      <td>Zambia</td>\n",
       "      <td>ZMB</td>\n",
       "      <td>2023</td>\n",
       "      <td>Africa</td>\n",
       "    </tr>\n",
       "    <tr>\n",
       "      <th>270</th>\n",
       "      <td>Zimbabwe</td>\n",
       "      <td>ZWE</td>\n",
       "      <td>2023</td>\n",
       "      <td>Africa</td>\n",
       "    </tr>\n",
       "  </tbody>\n",
       "</table>\n",
       "<p>257 rows × 4 columns</p>\n",
       "</div>"
      ],
      "text/plain": [
       "                    Location      Code  Year Continent\n",
       "0                Afghanistan       AFG  2023      Asia\n",
       "1              Aland Islands       ALA  2023    Europe\n",
       "2                    Albania       ALB  2023    Europe\n",
       "3                    Algeria       DZA  2023    Africa\n",
       "4             American Samoa       ASM  2023   Oceania\n",
       "..                       ...       ...   ...       ...\n",
       "266      Yemen Arab Republic  OWID_YAR  2023      Asia\n",
       "267  Yemen People's Republic  OWID_YPR  2023      Asia\n",
       "268               Yugoslavia  OWID_YGS  2023    Europe\n",
       "269                   Zambia       ZMB  2023    Africa\n",
       "270                 Zimbabwe       ZWE  2023    Africa\n",
       "\n",
       "[257 rows x 4 columns]"
      ]
     },
     "execution_count": 14,
     "metadata": {},
     "output_type": "execute_result"
    }
   ],
   "source": [
    "#drop null values\n",
    "ud_continents.dropna()"
   ]
  },
  {
   "cell_type": "code",
   "execution_count": 15,
   "metadata": {},
   "outputs": [],
   "source": [
    "#save to csv\n",
    "ud_continents.to_csv(\"data/continents_clean.csv\")\n"
   ]
  },
  {
   "cell_type": "code",
   "execution_count": 22,
   "metadata": {},
   "outputs": [
    {
     "name": "stdout",
     "output_type": "stream",
     "text": [
      "[('labor_force_participation_rates2',), ('continents2',), ('labor_force_participation_rates',), ('avgbycontinent',), ('participation',), ('continents',)]\n"
     ]
    }
   ],
   "source": [
    "import sqlite3\n",
    "import csv\n",
    "\n",
    "#setup database\n",
    "with sqlite3.connect(\"women_in_the_workforce.db\", timeout=30) as con:\n",
    "    #creates the tables\n",
    "    ud_female_lfp.to_sql('participation', con, if_exists='replace', index=False)\n",
    "    ud_continents.to_sql('continents', con, if_exists='replace', index=False)\n",
    "\n",
    "cur = con.cursor()\n",
    "\n",
    "\n",
    "cur.execute(\"SELECT name FROM sqlite_master WHERE type='table';\")\n",
    "print(cur.fetchall()) "
   ]
  },
  {
   "cell_type": "code",
   "execution_count": null,
   "metadata": {},
   "outputs": [],
   "source": []
  },
  {
   "cell_type": "code",
   "execution_count": null,
   "metadata": {},
   "outputs": [],
   "source": []
  },
  {
   "cell_type": "code",
   "execution_count": null,
   "metadata": {},
   "outputs": [],
   "source": []
  }
 ],
 "metadata": {
  "kernelspec": {
   "display_name": "venv",
   "language": "python",
   "name": "python3"
  },
  "language_info": {
   "codemirror_mode": {
    "name": "ipython",
    "version": 3
   },
   "file_extension": ".py",
   "mimetype": "text/x-python",
   "name": "python",
   "nbconvert_exporter": "python",
   "pygments_lexer": "ipython3",
   "version": "3.12.4"
  }
 },
 "nbformat": 4,
 "nbformat_minor": 2
}
